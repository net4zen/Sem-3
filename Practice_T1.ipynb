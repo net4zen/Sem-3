{
 "cells": [
  {
   "cell_type": "markdown",
   "metadata": {},
   "source": [
    "### WAP to ask the user for 10 inputs. print the maximum and minimum from the input. the user should enter the value until the quit msg is press"
   ]
  },
  {
   "cell_type": "code",
   "execution_count": null,
   "metadata": {},
   "outputs": [],
   "source": [
    "#### choice = True\n",
    "minimum = None\n",
    "maximum = None\n",
    "import math\n",
    "while choice:\n",
    "    x = int(input(\"Enter the number:\"))\n",
    "    if x==-1:\n",
    "        choice=False       \n",
    "    if minimum==None or x<minimum:\n",
    "        minimum=x\n",
    "    if maximum==None or x>maximum:\n",
    "        maximum=x\n",
    "        \n",
    "print(minimum)\n",
    "print(maximum)"
   ]
  },
  {
   "cell_type": "markdown",
   "metadata": {},
   "source": [
    "## WAP to reverse a number\n",
    "\n",
    "3587->7853"
   ]
  },
  {
   "cell_type": "code",
   "execution_count": null,
   "metadata": {},
   "outputs": [],
   "source": [
    "num = int(input(\"Enter number:\"))\n",
    "rev=0\n",
    "while num>0:\n",
    "    digit=num%10\n",
    "    rev = rev*10 +digit\n",
    "    num//=10\n",
    "print(rev)"
   ]
  },
  {
   "cell_type": "code",
   "execution_count": null,
   "metadata": {},
   "outputs": [],
   "source": [
    "%whos"
   ]
  },
  {
   "cell_type": "markdown",
   "metadata": {},
   "source": [
    "#### WAP to ask user for an hour including am or pm and ask hours ahead a user wants to go and print the output in am or pm"
   ]
  },
  {
   "cell_type": "code",
   "execution_count": null,
   "metadata": {},
   "outputs": [],
   "source": [
    "hour= int(input(\"Enter a time(HH):\"))\n",
    "if hour>12:\n",
    "    print(\"ENter valid time\")\n",
    "time= input(\"am or pm:\")\n",
    "duration = int(input(\"Enter time ahead(HH):\"))\n",
    "final=hour+duration\n",
    "if final%12==0 and time=='am':\n",
    "    print(f\"{final} am\")\n",
    "elif final%12==0 and time=='pm':\n",
    "     print(f\"{final%12} am\")\n",
    "elif final%12!=0 and time=='am':\n",
    "     print(f\"{final%12} pm\")\n",
    "elif final%12!=0 and time=='pm':\n",
    "     print(f\"{final%12} am\")\n",
    "elif final%24==0 and time=='pm':\n",
    "    print(f\"{final%24} pm\")\n",
    "elif final%24!=0 and time=='am':\n",
    "    print(f\"{final%24} am\")\n",
    "\n"
   ]
  },
  {
   "cell_type": "markdown",
   "metadata": {},
   "source": [
    "#### WAP to swap the first and last digit of the number"
   ]
  },
  {
   "cell_type": "code",
   "execution_count": null,
   "metadata": {},
   "outputs": [],
   "source": [
    "num= int(input(\"Enter Number:\"))\n",
    "temp=num\n",
    "digit=0\n",
    "while temp>0:\n",
    "    digit+=1\n",
    "    temp//=10\n",
    "x=None\n",
    "y=None\n",
    "t2=num\n",
    "remain=None\n",
    "for i in range(digit):\n",
    "    if i==0:\n",
    "        x = t2//(10**(digit-1))\n",
    "    if i==digit-1:\n",
    "        y = t2%10\n",
    "remain=(t2%(10**(digit-1)))//10\n",
    "print(digit)\n",
    "print(x,y,remain)\n",
    "print(y*(10**(digit-1))+remain*10+x)\n",
    "    "
   ]
  },
  {
   "cell_type": "markdown",
   "metadata": {},
   "source": [
    "#### WAP to find smallest positve number satisfying following condition:\n",
    "- for a given number if the last digit is removed and placed in the first place the new number so formed is exactly 1.5 times the original number\n"
   ]
  },
  {
   "cell_type": "code",
   "execution_count": null,
   "metadata": {
    "scrolled": true
   },
   "outputs": [],
   "source": [
    "num=1\n",
    "while True:\n",
    "    temp=num\n",
    "    digit=0\n",
    "    while temp>0:\n",
    "        digit+=1\n",
    "        temp//=10\n",
    "    t2=num\n",
    "    x=t2%10\n",
    "    remain=t2//10\n",
    "    newNum = x*(10**(digit-1))+remain\n",
    "\n",
    "    if newNum == 1.5*num:\n",
    "        print(num)\n",
    "        break\n",
    "    num+=1"
   ]
  },
  {
   "cell_type": "code",
   "execution_count": null,
   "metadata": {},
   "outputs": [],
   "source": [
    "285714*1.5\n"
   ]
  },
  {
   "cell_type": "markdown",
   "metadata": {},
   "source": [
    "#### WAP \n",
    "\n",
    "26 legs, 10 heads in farm\n",
    "farmer knows there are sheeps and hen\n",
    "sheep=3\n",
    "hen=7"
   ]
  },
  {
   "cell_type": "code",
   "execution_count": null,
   "metadata": {},
   "outputs": [],
   "source": [
    "for x in range(10):\n",
    "    for y in range(10):\n",
    "        if x+y==10 and x*4+y*2==26:\n",
    "            print(x,y)"
   ]
  },
  {
   "cell_type": "markdown",
   "metadata": {},
   "source": [
    "#### WAP \n",
    "- the number 99 has the property if we multiply the digits together and add the sum of digits we get the number back find such numbers from 1-10000"
   ]
  },
  {
   "cell_type": "code",
   "execution_count": null,
   "metadata": {},
   "outputs": [],
   "source": [
    "\n",
    "for i in range(10000):\n",
    "    digit=0\n",
    "    num=i\n",
    "    temp=i  \n",
    "    product=1\n",
    "    add=0\n",
    "    while temp>0:\n",
    "        n=temp%10\n",
    "        product*=n\n",
    "        add+=n\n",
    "        temp//=10\n",
    "    \n",
    "    if num==(product+add):\n",
    "        print(num)"
   ]
  },
  {
   "cell_type": "markdown",
   "metadata": {},
   "source": [
    "## WAP to find Happy number\n",
    "\n",
    "- any positive number when we replaced the number by sum of the square of its digits and repeat the process until the number equals 1 or it loops endlessly in that case it is not a happy number"
   ]
  },
  {
   "cell_type": "code",
   "execution_count": 4,
   "metadata": {},
   "outputs": [
    {
     "name": "stdout",
     "output_type": "stream",
     "text": [
      "1 is an happy number\n",
      "2 is not a happy number\n",
      "3 is not a happy number\n",
      "4 is not a happy number\n",
      "5 is not a happy number\n",
      "6 is not a happy number\n",
      "7 is an happy number\n",
      "8 is not a happy number\n",
      "9 is not a happy number\n",
      "10 is an happy number\n",
      "11 is not a happy number\n",
      "12 is not a happy number\n",
      "13 is an happy number\n",
      "14 is not a happy number\n",
      "15 is not a happy number\n",
      "16 is not a happy number\n",
      "17 is not a happy number\n",
      "18 is not a happy number\n",
      "19 is an happy number\n",
      "20 is not a happy number\n",
      "21 is not a happy number\n",
      "22 is not a happy number\n",
      "23 is an happy number\n",
      "24 is not a happy number\n",
      "25 is not a happy number\n",
      "26 is not a happy number\n",
      "27 is not a happy number\n",
      "28 is an happy number\n",
      "29 is not a happy number\n",
      "30 is not a happy number\n"
     ]
    }
   ],
   "source": [
    "\n",
    "digit=0\n",
    "\n",
    "for i in range(1,31):\n",
    "    loop=0\n",
    "    num=i\n",
    "    while num!=1 and num!=4:\n",
    "        loop+=1\n",
    "        temp=num\n",
    "        happy=0\n",
    "        while temp>0:\n",
    "            happy+=(temp%10)**2\n",
    "            temp//=10\n",
    "\n",
    "        num=happy\n",
    "    if num==1:\n",
    "        print(f\"{i} is an happy number\")\n",
    "    else:\n",
    "        print(f\"{i} is not a happy number\")\n",
    "        \n",
    "\n",
    "    "
   ]
  },
  {
   "cell_type": "markdown",
   "metadata": {},
   "source": [
    "## Patterns"
   ]
  },
  {
   "cell_type": "code",
   "execution_count": 21,
   "metadata": {},
   "outputs": [
    {
     "name": "stdout",
     "output_type": "stream",
     "text": [
      "Enter no. of rows:4\n",
      "\n",
      "* \n",
      "* * \n",
      "* * * \n",
      "* * * * \n"
     ]
    }
   ],
   "source": [
    "# *\n",
    "# * *\n",
    "# * * *\n",
    "# * * * *\n",
    "\n",
    "r = int(input(\"Enter no. of rows:\"))\n",
    "for i in range(r+1):\n",
    "    for j in range(i):\n",
    "        print(\"* \",end=\"\")\n",
    "    print()"
   ]
  },
  {
   "cell_type": "code",
   "execution_count": 22,
   "metadata": {},
   "outputs": [
    {
     "name": "stdout",
     "output_type": "stream",
     "text": [
      "Enter no. of rows:7\n",
      "* * * * * * * \n",
      "* * * * * * \n",
      "* * * * * \n",
      "* * * * \n",
      "* * * \n",
      "* * \n",
      "* \n"
     ]
    }
   ],
   "source": [
    "# * * * *\n",
    "# * * *\n",
    "# * *\n",
    "# *\n",
    "\n",
    "r = int(input(\"Enter no. of rows:\"))\n",
    "for i in range(r,0,-1):\n",
    "    for j in range(i):\n",
    "        print(\"* \",end=\"\")\n",
    "    print()"
   ]
  },
  {
   "cell_type": "code",
   "execution_count": 26,
   "metadata": {},
   "outputs": [
    {
     "name": "stdout",
     "output_type": "stream",
     "text": [
      "Enter no. of rows:4\n",
      "\n",
      "A \n",
      "B C \n",
      "D E F \n",
      "G H I J \n"
     ]
    }
   ],
   "source": [
    "# A\n",
    "# B C\n",
    "# D E F\n",
    "# G H I J\n",
    "\n",
    "r = int(input(\"Enter no. of rows:\"))\n",
    "k=65\n",
    "for i in range(r+1):\n",
    "    for j in range(i):\n",
    "        print(chr(k),end=\" \")\n",
    "        k+=1\n",
    "    print()"
   ]
  },
  {
   "cell_type": "code",
   "execution_count": 54,
   "metadata": {},
   "outputs": [
    {
     "name": "stdout",
     "output_type": "stream",
     "text": [
      "         *   \n",
      "       *   *   \n",
      "     *   *   *   \n",
      "   *   *   *   *   \n",
      " *   *   *   *   *   \n"
     ]
    }
   ],
   "source": [
    "#         *\n",
    "#       *   *\n",
    "#     * * * * *\n",
    "#   *           *\n",
    "# *               *\n",
    "\n",
    "space=9\n",
    "bet=0\n",
    "for i in range(5):\n",
    "    print(\" \"*space,end=\"\")\n",
    "    for j in range(i+1):\n",
    "        print(\"*\",\"  \",end=\"\")\n",
    "    space-=2\n",
    "    bet+=1\n",
    "    print()\n",
    "    \n",
    "# not completed\n",
    "    "
   ]
  },
  {
   "cell_type": "code",
   "execution_count": 67,
   "metadata": {},
   "outputs": [
    {
     "name": "stdout",
     "output_type": "stream",
     "text": [
      "\\ * * * * \n",
      "* \\     * \n",
      "*   \\   * \n",
      "*     \\ * \n",
      "* * * * \\ \n"
     ]
    }
   ],
   "source": [
    "# $ * * * * \n",
    "# * $     * \n",
    "# *   $   * \n",
    "# *     $ * \n",
    "# * * * * $\n",
    "\n",
    "\n",
    "for i in range(5):\n",
    "    for j in range(5):\n",
    "        if i==j :\n",
    "            print(\"\\\\\",end=\" \")\n",
    "        elif (i==1 and (j==2 or j==3)) or (i==2 and (j==1 or j==3)) or (i==3 and (j==1 or j==2)):\n",
    "            print(\" \",end=\" \")\n",
    "        else:\n",
    "            print(\"*\",end=\" \")\n",
    "    print()"
   ]
  },
  {
   "cell_type": "code",
   "execution_count": 85,
   "metadata": {},
   "outputs": [
    {
     "name": "stdout",
     "output_type": "stream",
     "text": [
      "  1   2   3   4   5   6   7   8   9   10 \n",
      "    2   3   4   5   6   7   8   9   10 \n",
      "      3   4   5   6   7   8   9   10 \n",
      "        4   5   6   7   8   9   10 \n",
      "          5   6   7   8   9   10 \n",
      "            6   7   8   9   10 \n",
      "              7   8   9   10 \n",
      "                8   9   10 \n",
      "                  9   10 \n",
      "                    10 \n",
      "                  10   9 \n",
      "                10   9   8 \n",
      "              10   9   8   7 \n",
      "            10   9   8   7   6 \n",
      "          10   9   8   7   6   5 \n",
      "        10   9   8   7   6   5   4 \n",
      "      10   9   8   7   6   5   4   3 \n",
      "    10   9   8   7   6   5   4   3   2 \n",
      "  10   9   8   7   6   5   4   3   2   1 \n"
     ]
    }
   ],
   "source": [
    "k=1\n",
    "for i in range(10):\n",
    "    m=k\n",
    "    for l in range(i):\n",
    "        print(\" \",end=\" \")\n",
    "    \n",
    "    for j in range(i,10):\n",
    "        print(\" \",m,end=\" \")\n",
    "        m+=1\n",
    "    k+=1\n",
    "    print()\n",
    "    \n",
    "k=10\n",
    "for i in range(2,11):\n",
    "    m=k\n",
    "    for l in range(i,10):\n",
    "        print(\" \",end=\" \")\n",
    "    \n",
    "    for j in range(i):\n",
    "        print(\" \",m,end=\" \")\n",
    "        m-=1\n",
    "    print()"
   ]
  }
 ],
 "metadata": {
  "kernelspec": {
   "display_name": "Python 3",
   "language": "python",
   "name": "python3"
  },
  "language_info": {
   "codemirror_mode": {
    "name": "ipython",
    "version": 3
   },
   "file_extension": ".py",
   "mimetype": "text/x-python",
   "name": "python",
   "nbconvert_exporter": "python",
   "pygments_lexer": "ipython3",
   "version": "3.8.5"
  }
 },
 "nbformat": 4,
 "nbformat_minor": 4
}
