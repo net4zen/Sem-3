{
 "cells": [
  {
   "cell_type": "code",
   "execution_count": 5,
   "metadata": {},
   "outputs": [
    {
     "name": "stdout",
     "output_type": "stream",
     "text": [
      "Enter 1st number: 3\n",
      "Enter 1st number: 2\n",
      "Enter 1st number: 1\n",
      "3  is the largest number\n"
     ]
    }
   ],
   "source": [
    "x = int(input(\"Enter 1st number: \"))\n",
    "y = int(input(\"Enter 1st number: \"))\n",
    "z = int(input(\"Enter 1st number: \"))\n",
    "if x>y and x>z:\n",
    "    print(x,\"is the largest number\")\n",
    "else:\n",
    "    if y>z:\n",
    "        print(f\"{y} is the largest\")\n",
    "    else:\n",
    "        print(f\"{z} is the largest\")"
   ]
  },
  {
   "cell_type": "code",
   "execution_count": 7,
   "metadata": {},
   "outputs": [
    {
     "name": "stdout",
     "output_type": "stream",
     "text": [
      "Enter No.s: 10\n",
      "Sum of 10 numbers is 55\n"
     ]
    }
   ],
   "source": [
    "# WAP to find the sum of n natural numbers\n",
    "\n",
    "n = int(input(\"Enter No.s: \"))\n",
    "sum=0\n",
    "for i in range(n+1):\n",
    "    sum+=i\n",
    "print(f\"Sum of {n} numbers is {sum}\")"
   ]
  },
  {
   "cell_type": "code",
   "execution_count": 11,
   "metadata": {},
   "outputs": [
    {
     "name": "stdout",
     "output_type": "stream",
     "text": [
      "0\n",
      "2\n",
      "4\n",
      "5\n",
      "6\n"
     ]
    }
   ],
   "source": [
    "# WAP to print all the numbers from 0 to 6 except 1 and 3\n",
    "\n",
    "for i in range(7):\n",
    "    if i==1 or i==3:\n",
    "        continue\n",
    "    print(i)"
   ]
  },
  {
   "cell_type": "code",
   "execution_count": 17,
   "metadata": {},
   "outputs": [
    {
     "name": "stdout",
     "output_type": "stream",
     "text": [
      "Enter number: 6\n",
      "6\n",
      "12\n",
      "18\n",
      "24\n",
      "30\n",
      "36\n",
      "42\n",
      "48\n",
      "54\n",
      "60\n"
     ]
    }
   ],
   "source": [
    "#WAP to print multiplication table\n",
    "\n",
    "n = int(input(\"Enter number: \"))\n",
    "for i in range(1,11):\n",
    "    print(n*i)"
   ]
  },
  {
   "cell_type": "code",
   "execution_count": 5,
   "metadata": {},
   "outputs": [
    {
     "name": "stdout",
     "output_type": "stream",
     "text": [
      "Enter number: 5\n",
      "factorial of 5 is 120\n"
     ]
    }
   ],
   "source": [
    "#WAP to find the factorial of a number\n",
    "\n",
    "n = int(input(\"Enter number: \"))\n",
    "fact=1\n",
    "for i in range(n+1):\n",
    "    if i==0:\n",
    "        continue\n",
    "    fact*=i\n",
    "print(f\"factorial of {n} is {fact}\")"
   ]
  },
  {
   "cell_type": "code",
   "execution_count": 12,
   "metadata": {},
   "outputs": [
    {
     "name": "stdout",
     "output_type": "stream",
     "text": [
      "Enter number:6\n",
      "0\n",
      "1\n",
      "1\n",
      "2\n",
      "3\n",
      "5\n"
     ]
    }
   ],
   "source": [
    "#WAP to write fibonacci seqence\n",
    "\n",
    "nterm= int(input(\"Enter number:\"))\n",
    "if nterm<0:\n",
    "    print(give poistive numbers)\n",
    "n=0\n",
    "x=1\n",
    "count=0\n",
    "for i in range(nterm):\n",
    "    print(n)\n",
    "    nth=n+x\n",
    "    n=x\n",
    "    x=nth\n",
    "    count+=1"
   ]
  },
  {
   "cell_type": "code",
   "execution_count": 3,
   "metadata": {},
   "outputs": [
    {
     "name": "stdout",
     "output_type": "stream",
     "text": [
      "Enter the 1 number: 1\n",
      "Enter the 2 number: 2\n",
      "Enter the 3 number: 3\n",
      "Enter the 4 number: 4\n",
      "Enter the 5 number: 5\n",
      "Enter the 6 number: 6\n",
      "Enter the 7 number: 7\n",
      "Enter the 8 number: 8\n",
      "Enter the 9 number: 9\n",
      "Enter the 10 number: 10\n",
      "Average of 10 numbers is 5.5\n"
     ]
    }
   ],
   "source": [
    "#WAP to ask user to enter 10 values and print the average at the end\n",
    "sum=0\n",
    "for i in range(10):\n",
    "    sum+=int(input(f\"Enter the {i+1} number: \"))\n",
    "avg=sum/10\n",
    "print(f\"Average of 10 numbers is {avg}\")"
   ]
  },
  {
   "cell_type": "code",
   "execution_count": 1,
   "metadata": {},
   "outputs": [],
   "source": [
    "x = 4\n",
    "y = 5"
   ]
  },
  {
   "cell_type": "code",
   "execution_count": 2,
   "metadata": {},
   "outputs": [
    {
     "data": {
      "text/plain": [
       "'the sum of 4 and 5 is 9'"
      ]
     },
     "execution_count": 2,
     "metadata": {},
     "output_type": "execute_result"
    }
   ],
   "source": [
    "f\"the sum of {x} and {y} is {x+y}\""
   ]
  },
  {
   "cell_type": "code",
   "execution_count": 4,
   "metadata": {},
   "outputs": [
    {
     "name": "stdout",
     "output_type": "stream",
     "text": [
      "177\n"
     ]
    }
   ],
   "source": [
    "for i in range(200):\n",
    "    if i%5==2 and i%6==3 and i%7==2:\n",
    "        print(i)"
   ]
  },
  {
   "cell_type": "code",
   "execution_count": 14,
   "metadata": {},
   "outputs": [
    {
     "name": "stdout",
     "output_type": "stream",
     "text": [
      "2520\n"
     ]
    }
   ],
   "source": [
    "# WAP to find the smallest number divisible by 1 to 10\n",
    "n=1\n",
    "found=False\n",
    "while not found:\n",
    "    found = True\n",
    "    for i in range(1,11):\n",
    "        if n%i!=0:\n",
    "            found=False\n",
    "            break\n",
    "    if not found:\n",
    "        n+=1\n",
    "print(n)"
   ]
  },
  {
   "cell_type": "code",
   "execution_count": 17,
   "metadata": {},
   "outputs": [
    {
     "name": "stdout",
     "output_type": "stream",
     "text": [
      "3 2\n",
      "17 12\n",
      "99 70\n"
     ]
    }
   ],
   "source": [
    "#Find the integer solution $x^2-2*y^2=1$ for the values of x and y in 1to 100\n",
    "\n",
    "\n",
    "for x in range(1,101):\n",
    "    for y in range(1,101):\n",
    "        if x**2-2*(y**2)==1:\n",
    "            print(x,y)"
   ]
  }
 ],
 "metadata": {
  "kernelspec": {
   "display_name": "Python 3",
   "language": "python",
   "name": "python3"
  },
  "language_info": {
   "codemirror_mode": {
    "name": "ipython",
    "version": 3
   },
   "file_extension": ".py",
   "mimetype": "text/x-python",
   "name": "python",
   "nbconvert_exporter": "python",
   "pygments_lexer": "ipython3",
   "version": "3.8.5"
  }
 },
 "nbformat": 4,
 "nbformat_minor": 4
}
