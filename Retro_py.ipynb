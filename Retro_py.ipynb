{
 "cells": [
  {
   "cell_type": "markdown",
   "metadata": {},
   "source": [
    "## Operator Precedence"
   ]
  },
  {
   "cell_type": "code",
   "execution_count": 2,
   "metadata": {},
   "outputs": [
    {
     "data": {
      "text/plain": [
       "64"
      ]
     },
     "execution_count": 2,
     "metadata": {},
     "output_type": "execute_result"
    }
   ],
   "source": [
    "(2**3)**2"
   ]
  },
  {
   "cell_type": "code",
   "execution_count": 5,
   "metadata": {
    "scrolled": true
   },
   "outputs": [
    {
     "name": "stdout",
     "output_type": "stream",
     "text": [
      "Enter 1st number: 12\n",
      "Enter 2nd number: 34\n",
      "Sum of 12 and 34 is 46\n"
     ]
    }
   ],
   "source": [
    "# Write a Python program to add 2 Numbers with user input.\n",
    "\n",
    "x = int(input(\"Enter 1st number: \"))\n",
    "y = int(input(\"Enter 2nd number: \"))\n",
    "print(f'Sum of {x} and {y} is {x+y}')"
   ]
  },
  {
   "cell_type": "markdown",
   "metadata": {},
   "source": [
    "# Practice Question"
   ]
  },
  {
   "cell_type": "code",
   "execution_count": 7,
   "metadata": {},
   "outputs": [
    {
     "name": "stdout",
     "output_type": "stream",
     "text": [
      "Enter radius: 4\n",
      "Area of circle with radius 4 is 50.27\n"
     ]
    }
   ],
   "source": [
    "#  Write a Python program to find the area of Circle.\n",
    "\n",
    "import math\n",
    "radius = int(input(\"Enter radius: \"))\n",
    "area = math.pi*radius*radius\n",
    "print(f'Area of circle with radius {radius} is {area:.2f}')\n"
   ]
  },
  {
   "cell_type": "code",
   "execution_count": 11,
   "metadata": {},
   "outputs": [
    {
     "name": "stdout",
     "output_type": "stream",
     "text": [
      "Enter side 1: 5\n",
      "Enter side 2: 5\n",
      "Enter side 3: 5\n",
      "Area of Triangle is 10.83\n"
     ]
    }
   ],
   "source": [
    "# Write a Python program to find the area of Triangle. \n",
    "\n",
    "a = int(input(\"Enter side 1: \"))\n",
    "b = int(input(\"Enter side 2: \"))\n",
    "c = int(input(\"Enter side 3: \"))\n",
    "s = (a+b+c)/2\n",
    "area = (s*(s-a)*(s-b)*(s-c))**0.5\n",
    "print(f'Area of Triangle is {area:.2f}')"
   ]
  },
  {
   "cell_type": "code",
   "execution_count": 13,
   "metadata": {},
   "outputs": [
    {
     "name": "stdout",
     "output_type": "stream",
     "text": [
      "Enter base 1:1\n",
      "ENter base 2:1\n",
      "Enter height: 1\n",
      "1.0\n"
     ]
    }
   ],
   "source": [
    "#  Write a Python program to calculate the area of a trapezoid.\n",
    "\n",
    "a = int(input(\"Enter base 1:\"))\n",
    "b = int(input(\"ENter base 2:\"))\n",
    "h = int(input(\"Enter height: \"))\n",
    "area = ((a+b)/2)*h\n",
    "print(area)"
   ]
  },
  {
   "cell_type": "code",
   "execution_count": 15,
   "metadata": {},
   "outputs": [
    {
     "name": "stdout",
     "output_type": "stream",
     "text": [
      "Enter radius: 1\n",
      "ENter height2\n",
      "Area of cylinder is 18.85\n",
      "volume of cylinder is 6.28\n"
     ]
    }
   ],
   "source": [
    "# Write a Python program to calculate surface volume and area of a cylinder.\n",
    "\n",
    "r = int(input(\"Enter radius: \"))\n",
    "h = int(input(\"ENter height\"))\n",
    "area = 2*math.pi*(r+h)*r\n",
    "volume = math.pi*r*r*h\n",
    "print(f'Area of cylinder is {area:.2f}')\n",
    "print(f'volume of cylinder is {volume:.2f}')\n"
   ]
  },
  {
   "cell_type": "code",
   "execution_count": 16,
   "metadata": {},
   "outputs": [
    {
     "name": "stdout",
     "output_type": "stream",
     "text": [
      "enter Fahrenheit : 98\n",
      "Enter Celsius: 36\n",
      "converting 98F into 36.666666666666664C\n",
      "converting 36C into 96.8F\n"
     ]
    }
   ],
   "source": [
    "# Write a Python program to convert Fahrenheit to Celsius and vice versa.\n",
    "\n",
    "f = int(input(\"enter Fahrenheit : \"))\n",
    "c = int(input(\"Enter Celsius: \"))\n",
    "celsius = (f - 32)*5/9\n",
    "farenheit = (9/5*c)+32\n",
    "print(f'converting {f}F into {celsius}C')\n",
    "print(f'converting {c}C into {farenheit}F')\n"
   ]
  },
  {
   "cell_type": "code",
   "execution_count": 24,
   "metadata": {},
   "outputs": [
    {
     "name": "stdout",
     "output_type": "stream",
     "text": [
      "Enter number of days: 800\n",
      "2\n",
      "2\n",
      "10\n"
     ]
    }
   ],
   "source": [
    "# Write a python program to convert Days into Years, Months and Days. (Ex: if input of Days = 370 then output will be, \n",
    "# years=1, months=0 and days = 5).\n",
    "\n",
    "days = int(input(\"Enter number of days: \"))\n",
    "years = days//365\n",
    "print(years)\n",
    "month = (days%365)//30\n",
    "print(month)\n",
    "day = (days%365)%30\n",
    "print(day)"
   ]
  },
  {
   "cell_type": "code",
   "execution_count": null,
   "metadata": {},
   "outputs": [],
   "source": [
    "# Write a Python program to convert hours into minutes and seconds (Ex : input of hours = 6 then output will be, minutes =\n",
    "#360 and seconds = 21600 ).\n",
    "\n",
    "hours = int(input(\"Enter total number of hours: \"))\n",
    "mins = hours*60\n",
    "seconds = hours*3600\n",
    "print(f'{hours} hr = {mins} mins and {seconds} secs')"
   ]
  },
  {
   "cell_type": "code",
   "execution_count": 28,
   "metadata": {},
   "outputs": [
    {
     "name": "stdout",
     "output_type": "stream",
     "text": [
      "Enter base: 2\n",
      "final answer: 1024\n",
      "10.0\n"
     ]
    }
   ],
   "source": [
    "# Write a Python program to find an integer exponent x such that a^x = n.\n",
    "# Input:\n",
    "# a = 2 : n = 1024\n",
    "# Output:\n",
    "# 10\n",
    "# Input:\n",
    "# a = 3 : n = 81\n",
    "# Output:\n",
    "# 4\n",
    "\n",
    "\n",
    "a = int(input(\"Enter base: \"))\n",
    "n = int(input(\"final answer: \"))\n",
    "x = math.log(n,a)\n",
    "print(x)\n",
    " "
   ]
  }
 ],
 "metadata": {
  "kernelspec": {
   "display_name": "Python 3",
   "language": "python",
   "name": "python3"
  },
  "language_info": {
   "codemirror_mode": {
    "name": "ipython",
    "version": 3
   },
   "file_extension": ".py",
   "mimetype": "text/x-python",
   "name": "python",
   "nbconvert_exporter": "python",
   "pygments_lexer": "ipython3",
   "version": "3.8.5"
  }
 },
 "nbformat": 4,
 "nbformat_minor": 4
}
